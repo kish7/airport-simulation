{
 "cells": [
  {
   "cell_type": "code",
   "execution_count": 195,
   "id": "9001a651",
   "metadata": {},
   "outputs": [
    {
     "name": "stdout",
     "output_type": "stream",
     "text": [
      "76\n",
      "722.7272727272727\n"
     ]
    }
   ],
   "source": [
    "import pandas as pd\n",
    "import time\n",
    "import datetime\n",
    "\n",
    "df = pd.read_csv ('output/real-west-all-terminals/states.csv', header = 0)\n",
    "arrivals = df.groupby(by=['callsign']).filter(lambda x: (x['takeoff'].max() == False).any())\n",
    "arrivals = arrivals[['time', 'callsign']]\n",
    "# print(arrivals[arrivals['callsign'] == 'AA1260-D'])\n",
    "# print(len(arrivals))\n",
    "arrivals['time'] = arrivals['time'].astype('datetime64[ns]')\n",
    "\n",
    "arrival_taxi_time = arrivals.groupby(by=['callsign'], as_index=False).agg({'time': ['min', 'max']})\n",
    "arrival_taxi_time['taxi_time'] = arrival_taxi_time['time']['max'] - arrival_taxi_time['time']['min']\n",
    "arrival_taxi_time['taxi_time_seconds'] = arrival_taxi_time['taxi_time'].dt.total_seconds()\n",
    "print(len(arrival_taxi_time))\n",
    "# print(arrival_taxi_time[:10])\n",
    "\n",
    "\n",
    "sort = arrival_taxi_time.sort_values(by=['taxi_time_seconds'], ascending=False)\n",
    "print(sort[10:][\"taxi_time_seconds\"].mean())\n",
    "\n",
    "# avg_total_ticks = arrival_taxi_time[\"taxi_time_seconds\"].mean()\n",
    "# print(avg_total_ticks)\n",
    "# print(arrivals)\n"
   ]
  },
  {
   "cell_type": "code",
   "execution_count": 303,
   "id": "4959b5ab",
   "metadata": {},
   "outputs": [
    {
     "name": "stdout",
     "output_type": "stream",
     "text": [
      "87\n",
      "   callsign                time                           taxi_time  \\\n",
      "                            min                 max                   \n",
      "0   4O821-D 2021-11-11 10:46:00 2021-11-11 23:55:30 0 days 13:09:30   \n",
      "1  AA1322-A 2021-11-11 07:58:00 2021-11-11 08:11:30 0 days 00:13:30   \n",
      "2   AA152-A 2021-11-11 08:43:00 2021-11-11 14:29:00 0 days 05:46:00   \n",
      "3  AA1880-D 2021-11-11 12:23:00 2021-11-11 23:55:30 0 days 11:32:30   \n",
      "4   AC560-A 2021-11-11 08:35:00 2021-11-11 08:56:00 0 days 00:21:00   \n",
      "5   AC738-D 2021-11-11 12:13:00 2021-11-11 23:55:30 0 days 11:42:30   \n",
      "6   AC754-D 2021-11-11 22:59:00 2021-11-11 23:55:30 0 days 00:56:30   \n",
      "7   AC760-D 2021-11-11 09:45:00 2021-11-11 23:55:30 0 days 14:10:30   \n",
      "8   AC776-D 2021-11-11 22:56:00 2021-11-11 23:55:30 0 days 00:59:30   \n",
      "9  AC8578-D 2021-11-11 11:54:00 2021-11-11 23:55:30 0 days 12:01:30   \n",
      "\n",
      "  taxi_time_seconds  \n",
      "                     \n",
      "0           47370.0  \n",
      "1             810.0  \n",
      "2           20760.0  \n",
      "3           41550.0  \n",
      "4            1260.0  \n",
      "5           42150.0  \n",
      "6            3390.0  \n",
      "7           51030.0  \n",
      "8            3570.0  \n",
      "9           43290.0  \n"
     ]
    }
   ],
   "source": [
    "df_before = pd.read_csv ('/Users/lolaliu/Desktop/airport-simulation/output/real-west-all-terminals/states.csv', header = 0)\n",
    "arrivals_before = df_before.groupby(by=['callsign']).filter(lambda x: x['takeoff'].max() == False)\n",
    "arrivals_before = arrivals_before[[\"time\", \"callsign\"]]\n",
    "# print(arrivals[arrivals['callsign'] == 'AA1260-D'])\n",
    "# print(len(arrivals_before))\n",
    "arrivals_before['time'] = arrivals_before['time'].astype('datetime64[ns]')\n",
    "\n",
    "arrival_taxi_time_before = arrivals_before.groupby(by=['callsign'], as_index=False).agg({'time': ['min', 'max']})\n",
    "arrival_taxi_time_before['taxi_time'] = arrival_taxi_time_before[\"time\"][\"max\"] - arrival_taxi_time_before[\"time\"][\"min\"]\n",
    "arrival_taxi_time_before['taxi_time_seconds'] = arrival_taxi_time_before['taxi_time'].dt.total_seconds()\n",
    "print(len(arrival_taxi_time_before))\n",
    "\n",
    "sort_before = arrival_taxi_time_before.sort_values(by=[('time', 'max')], ascending=False)\n",
    "# print(sort_before[10:][\"taxi_time_seconds\"].mean())\n",
    "print(arrival_taxi_time_before[:10])\n",
    "\n",
    "# avg_total_ticks_before = arrival_taxi_time_before[\"taxi_time_seconds\"].mean()\n",
    "# print(avg_total_ticks_before)"
   ]
  },
  {
   "cell_type": "code",
   "execution_count": 168,
   "id": "6997da2a",
   "metadata": {},
   "outputs": [
    {
     "name": "stdout",
     "output_type": "stream",
     "text": [
      "46\n",
      "2      AA16-D\n",
      "4     AC760-D\n",
      "5    AC8578-D\n",
      "6    AC8744-D\n",
      "7     AI174-D\n",
      "Name: callsign, dtype: object\n",
      "31\n",
      "0     4O820-A\n",
      "1    AA1260-D\n",
      "4     AA785-A\n",
      "8    AS1925-A\n",
      "9    AS1926-D\n",
      "Name: callsign, dtype: object\n"
     ]
    },
    {
     "name": "stderr",
     "output_type": "stream",
     "text": [
      "/opt/anaconda3/lib/python3.8/site-packages/pandas/core/generic.py:4153: PerformanceWarning: dropping on a non-lexsorted multi-index without a level parameter may impact performance.\n",
      "  obj = obj._drop_axis(labels, axis, level=level, errors=errors)\n"
     ]
    }
   ],
   "source": [
    "only_before = arrival_taxi_time_before.merge(arrival_taxi_time, on=['callsign'], \n",
    "                   how='left', indicator=True)\n",
    "only_before = only_before[only_before['_merge'] == 'left_only']\n",
    "print(len(only_before))\n",
    "print(only_before['callsign'][:5])\n",
    "\n",
    "only_after = arrival_taxi_time.merge(arrival_taxi_time_before, on=['callsign'], \n",
    "                   how='left', indicator=True)\n",
    "only_after = only_after[only_after['_merge'] == 'left_only']\n",
    "print(len(only_after))\n",
    "print(only_after['callsign'][:5])"
   ]
  },
  {
   "cell_type": "code",
   "execution_count": 193,
   "id": "d575af7d",
   "metadata": {},
   "outputs": [
    {
     "name": "stdout",
     "output_type": "stream",
     "text": [
      "arrival\n",
      "before: 3302.6666666666665\n",
      "after: 982.0\n",
      "    callsign              time_x                         taxi_time_x  \\\n",
      "                             min                 max                   \n",
      "22   UA234-D 2021-11-09 08:32:00 2021-11-09 11:56:00 0 days 03:24:00   \n",
      "23  UA2356-A 2021-11-09 07:38:30 2021-11-09 08:32:00 0 days 00:53:30   \n",
      "24   UA256-A 2021-11-09 07:58:00 2021-11-09 11:56:00 0 days 03:58:00   \n",
      "4   AS1897-A 2021-11-09 08:24:00 2021-11-09 08:48:30 0 days 00:24:30   \n",
      "8    AS762-A 2021-11-09 08:28:00 2021-11-09 08:52:00 0 days 00:24:00   \n",
      "25   UA295-A 2021-11-09 07:35:30 2021-11-09 08:01:30 0 days 00:26:00   \n",
      "0   AA1322-A 2021-11-09 07:58:00 2021-11-09 08:11:30 0 days 00:13:30   \n",
      "12  UA1575-A 2021-11-09 07:25:00 2021-11-09 07:50:00 0 days 00:25:00   \n",
      "6   AS3327-A 2021-11-09 07:39:00 2021-11-09 08:04:00 0 days 00:25:00   \n",
      "30  UA5243-D 2021-11-09 11:42:00 2021-11-09 11:56:00 0 days 00:14:00   \n",
      "39  UA5976-A 2021-11-09 07:22:00 2021-11-09 07:34:00 0 days 00:12:00   \n",
      "27   UA368-A 2021-11-09 08:08:30 2021-11-09 08:20:00 0 days 00:11:30   \n",
      "3   AS1219-A 2021-11-09 08:40:00 2021-11-09 11:56:00 0 days 03:16:00   \n",
      "28   UA500-A 2021-11-09 08:27:30 2021-11-09 11:56:00 0 days 03:28:30   \n",
      "5   AS1951-A 2021-11-09 07:47:00 2021-11-09 08:06:30 0 days 00:19:30   \n",
      "37  UA5617-A 2021-11-09 07:11:00 2021-11-09 07:26:00 0 days 00:15:00   \n",
      "18  UA2068-A 2021-11-09 07:13:00 2021-11-09 07:25:00 0 days 00:12:00   \n",
      "2    AC560-A 2021-11-09 08:35:00 2021-11-09 08:56:00 0 days 00:21:00   \n",
      "7    AS426-A 2021-11-09 07:18:00 2021-11-09 07:30:00 0 days 00:12:00   \n",
      "13  UA1580-A 2021-11-09 07:02:00 2021-11-09 07:13:00 0 days 00:11:00   \n",
      "38  UA5667-A 2021-11-09 07:07:00 2021-11-09 07:17:30 0 days 00:10:30   \n",
      "1    AA152-A 2021-11-09 08:43:00 2021-11-09 11:56:00 0 days 03:13:00   \n",
      "9   UA1111-A 2021-11-09 08:46:00 2021-11-09 11:56:00 0 days 03:10:00   \n",
      "15  UA1881-A 2021-11-09 08:48:30 2021-11-09 11:56:00 0 days 03:07:30   \n",
      "40   UA618-A 2021-11-09 08:30:00 2021-11-09 11:56:00 0 days 03:26:00   \n",
      "14  UA1664-A 2021-11-09 08:19:00 2021-11-09 08:29:30 0 days 00:10:30   \n",
      "44   UA870-A 2021-11-09 07:31:00 2021-11-09 07:39:30 0 days 00:08:30   \n",
      "41   UA759-A 2021-11-09 08:38:00 2021-11-09 11:56:00 0 days 03:18:00   \n",
      "20  UA2166-A 2021-11-09 08:33:00 2021-11-09 08:52:30 0 days 00:19:30   \n",
      "35  UA5550-A 2021-11-09 08:11:30 2021-11-09 08:20:00 0 days 00:08:30   \n",
      "21  UA2235-A 2021-11-09 08:00:00 2021-11-09 08:08:00 0 days 00:08:00   \n",
      "10  UA1129-A 2021-11-09 07:41:00 2021-11-09 07:49:30 0 days 00:08:30   \n",
      "26   UA357-A 2021-11-09 07:53:00 2021-11-09 08:01:00 0 days 00:08:00   \n",
      "29  UA5219-A 2021-11-09 07:15:00 2021-11-09 07:23:00 0 days 00:08:00   \n",
      "33  UA5372-A 2021-11-09 08:02:30 2021-11-09 08:15:00 0 days 00:12:30   \n",
      "11   UA114-A 2021-11-09 07:50:00 2021-11-09 07:57:30 0 days 00:07:30   \n",
      "16  UA1900-A 2021-11-09 08:05:30 2021-11-09 08:12:00 0 days 00:06:30   \n",
      "36  UA5562-A 2021-11-09 07:05:00 2021-11-09 07:11:30 0 days 00:06:30   \n",
      "43   UA858-A 2021-11-09 08:15:00 2021-11-09 08:21:00 0 days 00:06:00   \n",
      "31  UA5287-A 2021-11-09 07:01:00 2021-11-09 07:07:00 0 days 00:06:00   \n",
      "17     UA2-A 2021-11-09 08:56:00 2021-11-09 11:56:00 0 days 03:00:00   \n",
      "42     UA8-A 2021-11-09 07:29:00 2021-11-09 07:35:30 0 days 00:06:30   \n",
      "19  UA2123-A 2021-11-09 07:45:00 2021-11-09 07:50:30 0 days 00:05:30   \n",
      "32  UA5362-A 2021-11-09 07:25:00 2021-11-09 07:30:30 0 days 00:05:30   \n",
      "34  UA5549-A 2021-11-09 07:09:00 2021-11-09 07:13:00 0 days 00:04:00   \n",
      "\n",
      "   taxi_time_seconds_x              time_y                      \\\n",
      "                                       min                 max   \n",
      "22             12240.0 2021-11-09 10:00:30 2021-11-09 12:03:30   \n",
      "23              3210.0 2021-11-09 07:45:30 2021-11-09 08:33:00   \n",
      "24             14280.0 2021-11-09 08:23:00 2021-11-09 09:00:30   \n",
      "4               1470.0 2021-11-09 08:24:00 2021-11-09 08:55:30   \n",
      "8               1440.0 2021-11-09 08:28:00 2021-11-09 08:59:00   \n",
      "25              1560.0 2021-11-09 07:37:30 2021-11-09 08:06:30   \n",
      "0                810.0 2021-11-09 07:58:00 2021-11-09 08:23:00   \n",
      "12              1500.0 2021-11-09 07:25:00 2021-11-09 07:49:30   \n",
      "6               1500.0 2021-11-09 07:39:00 2021-11-09 08:01:00   \n",
      "30               840.0 2021-11-09 11:42:00 2021-11-09 12:03:30   \n",
      "39               720.0 2021-11-09 07:20:30 2021-11-09 07:41:30   \n",
      "27               690.0 2021-11-09 08:10:00 2021-11-09 08:30:00   \n",
      "3              11760.0 2021-11-09 08:41:30 2021-11-09 09:00:00   \n",
      "28             12510.0 2021-11-09 08:54:30 2021-11-09 09:11:30   \n",
      "5               1170.0 2021-11-09 07:47:30 2021-11-09 08:03:30   \n",
      "37               900.0 2021-11-09 07:11:00 2021-11-09 07:26:00   \n",
      "18               720.0 2021-11-09 07:13:00 2021-11-09 07:25:00   \n",
      "2               1260.0 2021-11-09 08:36:00 2021-11-09 08:47:30   \n",
      "7                720.0 2021-11-09 07:18:30 2021-11-09 07:30:00   \n",
      "13               660.0 2021-11-09 07:02:00 2021-11-09 07:13:00   \n",
      "38               630.0 2021-11-09 07:07:00 2021-11-09 07:17:30   \n",
      "1              11580.0 2021-11-09 08:44:30 2021-11-09 08:54:00   \n",
      "9              11400.0 2021-11-09 08:47:30 2021-11-09 08:57:00   \n",
      "15             11250.0 2021-11-09 08:50:00 2021-11-09 08:59:30   \n",
      "40             12360.0 2021-11-09 08:30:30 2021-11-09 08:39:30   \n",
      "14               630.0 2021-11-09 08:19:00 2021-11-09 08:28:00   \n",
      "44               510.0 2021-11-09 07:31:00 2021-11-09 07:40:00   \n",
      "41             11880.0 2021-11-09 08:39:00 2021-11-09 08:47:30   \n",
      "20              1170.0 2021-11-09 08:33:30 2021-11-09 08:42:00   \n",
      "35               510.0 2021-11-09 08:13:00 2021-11-09 08:21:30   \n",
      "21               480.0 2021-11-09 08:01:00 2021-11-09 08:09:30   \n",
      "10               510.0 2021-11-09 07:41:30 2021-11-09 07:49:30   \n",
      "26               480.0 2021-11-09 07:53:30 2021-11-09 08:01:30   \n",
      "29               480.0 2021-11-09 07:15:00 2021-11-09 07:23:00   \n",
      "33               750.0 2021-11-09 08:04:00 2021-11-09 08:11:30   \n",
      "11               450.0 2021-11-09 07:50:30 2021-11-09 07:58:00   \n",
      "16               390.0 2021-11-09 08:07:00 2021-11-09 08:13:30   \n",
      "36               390.0 2021-11-09 07:05:00 2021-11-09 07:11:30   \n",
      "43               360.0 2021-11-09 08:16:00 2021-11-09 08:22:30   \n",
      "31               360.0 2021-11-09 07:01:00 2021-11-09 07:07:00   \n",
      "17             10800.0 2021-11-09 08:56:00 2021-11-09 09:01:30   \n",
      "42               390.0 2021-11-09 07:29:00 2021-11-09 07:34:30   \n",
      "19               330.0 2021-11-09 07:45:30 2021-11-09 07:51:00   \n",
      "32               330.0 2021-11-09 07:25:30 2021-11-09 07:31:00   \n",
      "34               240.0 2021-11-09 07:09:00 2021-11-09 07:13:00   \n",
      "\n",
      "       taxi_time_y taxi_time_seconds_y  \n",
      "                                        \n",
      "22 0 days 02:03:00              7380.0  \n",
      "23 0 days 00:47:30              2850.0  \n",
      "24 0 days 00:37:30              2250.0  \n",
      "4  0 days 00:31:30              1890.0  \n",
      "8  0 days 00:31:00              1860.0  \n",
      "25 0 days 00:29:00              1740.0  \n",
      "0  0 days 00:25:00              1500.0  \n",
      "12 0 days 00:24:30              1470.0  \n",
      "6  0 days 00:22:00              1320.0  \n",
      "30 0 days 00:21:30              1290.0  \n",
      "39 0 days 00:21:00              1260.0  \n",
      "27 0 days 00:20:00              1200.0  \n",
      "3  0 days 00:18:30              1110.0  \n",
      "28 0 days 00:17:00              1020.0  \n",
      "5  0 days 00:16:00               960.0  \n",
      "37 0 days 00:15:00               900.0  \n",
      "18 0 days 00:12:00               720.0  \n",
      "2  0 days 00:11:30               690.0  \n",
      "7  0 days 00:11:30               690.0  \n",
      "13 0 days 00:11:00               660.0  \n",
      "38 0 days 00:10:30               630.0  \n",
      "1  0 days 00:09:30               570.0  \n",
      "9  0 days 00:09:30               570.0  \n",
      "15 0 days 00:09:30               570.0  \n",
      "40 0 days 00:09:00               540.0  \n",
      "14 0 days 00:09:00               540.0  \n",
      "44 0 days 00:09:00               540.0  \n",
      "41 0 days 00:08:30               510.0  \n",
      "20 0 days 00:08:30               510.0  \n",
      "35 0 days 00:08:30               510.0  \n",
      "21 0 days 00:08:30               510.0  \n",
      "10 0 days 00:08:00               480.0  \n",
      "26 0 days 00:08:00               480.0  \n",
      "29 0 days 00:08:00               480.0  \n",
      "33 0 days 00:07:30               450.0  \n",
      "11 0 days 00:07:30               450.0  \n",
      "16 0 days 00:06:30               390.0  \n",
      "36 0 days 00:06:30               390.0  \n",
      "43 0 days 00:06:30               390.0  \n",
      "31 0 days 00:06:00               360.0  \n",
      "17 0 days 00:05:30               330.0  \n",
      "42 0 days 00:05:30               330.0  \n",
      "19 0 days 00:05:30               330.0  \n",
      "32 0 days 00:05:30               330.0  \n",
      "34 0 days 00:04:00               240.0  \n"
     ]
    },
    {
     "name": "stderr",
     "output_type": "stream",
     "text": [
      "/opt/anaconda3/lib/python3.8/site-packages/pandas/core/generic.py:4153: PerformanceWarning: dropping on a non-lexsorted multi-index without a level parameter may impact performance.\n",
      "  obj = obj._drop_axis(labels, axis, level=level, errors=errors)\n"
     ]
    }
   ],
   "source": [
    "overlap_arrivals = pd.merge(arrival_taxi_time_before, arrival_taxi_time, on=\"callsign\")\n",
    "\n",
    "print(\"arrival\")\n",
    "print(\"before: \" + str(overlap_arrivals['taxi_time_seconds_x'].mean()))\n",
    "print(\"after: \" + str(overlap_arrivals['taxi_time_seconds_y'].mean()))\n",
    "\n",
    "merge_sorted = overlap_arrivals.sort_values(by=['taxi_time_seconds_y', 'taxi_time_seconds_x'], ascending=False)\n",
    "print(merge_sorted)\n",
    "# print(len(overlap_arrivals))\n",
    "# print(df_all[:5])"
   ]
  },
  {
   "cell_type": "code",
   "execution_count": null,
   "id": "f4bd3bc8",
   "metadata": {},
   "outputs": [],
   "source": [
    "# print(len(overlap_arrivals))\n",
    "# print(df_all[:5])"
   ]
  },
  {
   "cell_type": "markdown",
   "id": "ad8df691",
   "metadata": {},
   "source": [
    "## Departure Flights"
   ]
  },
  {
   "cell_type": "code",
   "execution_count": 176,
   "id": "d87a480c",
   "metadata": {},
   "outputs": [
    {
     "name": "stdout",
     "output_type": "stream",
     "text": [
      "4271\n",
      "102\n",
      "1226.1764705882354\n"
     ]
    }
   ],
   "source": [
    "# df = pd.read_csv ('output/real-west-all-terminals/states.csv', header = 0)\n",
    "departures = df.groupby(by=['callsign']).filter(lambda x: (x['takeoff'].max() == True).any())\n",
    "departures = departures[['time', 'callsign']]\n",
    "# print(arrivals[arrivals['callsign'] == 'AA1260-D'])\n",
    "print(len(departures))\n",
    "departures['time'] = departures['time'].astype('datetime64[ns]')\n",
    "\n",
    "depart_taxi_time = departures.groupby(by=['callsign'], as_index=False).agg({'time': ['min', 'max']})\n",
    "depart_taxi_time['taxi_time'] = depart_taxi_time['time']['max'] - depart_taxi_time['time']['min']\n",
    "depart_taxi_time['taxi_time_seconds'] = depart_taxi_time['taxi_time'].dt.total_seconds()\n",
    "print(len(depart_taxi_time))\n",
    "# print(depart_taxi_time[:10])\n",
    "\n",
    "avg_total_ticks = depart_taxi_time[\"taxi_time_seconds\"].mean()\n",
    "print(avg_total_ticks)"
   ]
  },
  {
   "cell_type": "code",
   "execution_count": 179,
   "id": "da780433",
   "metadata": {},
   "outputs": [
    {
     "name": "stdout",
     "output_type": "stream",
     "text": [
      "122\n",
      "1606.4754098360656\n"
     ]
    }
   ],
   "source": [
    "departures_before = df_before.groupby(by=['callsign']).filter(lambda x: (x['takeoff'].max() == True).any())\n",
    "departures_before = departures_before[['time', 'callsign']]\n",
    "# print(arrivals[arrivals['callsign'] == 'AA1260-D'])\n",
    "# print(len(departures_before))\n",
    "departures_before['time'] = departures_before['time'].astype('datetime64[ns]')\n",
    "\n",
    "depart_taxi_time_before = departures_before.groupby(by=['callsign'], as_index=False).agg({'time': ['min', 'max']})\n",
    "depart_taxi_time_before['taxi_time'] = depart_taxi_time_before['time']['max'] - depart_taxi_time_before['time']['min']\n",
    "depart_taxi_time_before['taxi_time_seconds'] = depart_taxi_time_before['taxi_time'].dt.total_seconds()\n",
    "print(len(depart_taxi_time_before))\n",
    "# print(depart_taxi_time_before[:10])\n",
    "\n",
    "avg_total_ticks_before = depart_taxi_time_before[\"taxi_time_seconds\"].mean()\n",
    "print(avg_total_ticks_before)"
   ]
  },
  {
   "cell_type": "code",
   "execution_count": 165,
   "id": "8d07bcfa",
   "metadata": {},
   "outputs": [
    {
     "name": "stdout",
     "output_type": "stream",
     "text": [
      "departure\n",
      "before: 1353.8709677419354\n",
      "after: 1151.9354838709678\n"
     ]
    }
   ],
   "source": [
    "overlap_departures = pd.merge(depart_taxi_time_before, depart_taxi_time, on=\"callsign\")\n",
    "print(\"departure\")\n",
    "print(\"before: \" + str(overlap_departures['taxi_time_seconds_x'].mean()))\n",
    "print(\"after: \" + str(overlap_departures['taxi_time_seconds_y'].mean()))"
   ]
  },
  {
   "cell_type": "code",
   "execution_count": 164,
   "id": "ae9bf4c8",
   "metadata": {},
   "outputs": [
    {
     "name": "stdout",
     "output_type": "stream",
     "text": [
      "28\n",
      "14    AC8839-D\n",
      "45     B6416-D\n",
      "48    DL1390-D\n",
      "54    DL2490-D\n",
      "60     DL664-D\n",
      "Name: callsign, dtype: object\n",
      "9\n",
      "2       AA16-D\n",
      "15     AC760-D\n",
      "29    AS1952-D\n",
      "43    AS3488-D\n",
      "46     AS427-D\n",
      "Name: callsign, dtype: object\n"
     ]
    },
    {
     "name": "stderr",
     "output_type": "stream",
     "text": [
      "/opt/anaconda3/lib/python3.8/site-packages/pandas/core/generic.py:4153: PerformanceWarning: dropping on a non-lexsorted multi-index without a level parameter may impact performance.\n",
      "  obj = obj._drop_axis(labels, axis, level=level, errors=errors)\n"
     ]
    }
   ],
   "source": [
    "depart_only_before = depart_taxi_time_before.merge(depart_taxi_time, on=['callsign'], \n",
    "                   how='left', indicator=True)\n",
    "depart_only_before = depart_only_before[depart_only_before['_merge'] == 'left_only']\n",
    "print(len(depart_only_before))\n",
    "print(depart_only_before['callsign'][:5])\n",
    "\n",
    "depart_only_after = depart_taxi_time.merge(depart_taxi_time_before, on=['callsign'], \n",
    "                   how='left', indicator=True)\n",
    "depart_only_after = depart_only_after[depart_only_after['_merge'] == 'left_only']\n",
    "print(len(depart_only_after))\n",
    "print(depart_only_after['callsign'][:5])"
   ]
  },
  {
   "cell_type": "markdown",
   "id": "ca0e0df5",
   "metadata": {},
   "source": [
    "## Arrivals for 7/10/15 hours"
   ]
  },
  {
   "cell_type": "code",
   "execution_count": 309,
   "id": "0e041c89",
   "metadata": {},
   "outputs": [],
   "source": [
    "df = pd.read_csv ('output/real-west-all-terminals/states.csv', header = 0)\n",
    "df['time'] = df['time'].astype('datetime64[ns]')\n",
    "\n",
    "df_before = pd.read_csv ('/Users/lolaliu/Desktop/airport-simulation/output/real-west-all-terminals/states.csv', header = 0)\n",
    "df_before['time'] = df_before['time'].astype('datetime64[ns]')"
   ]
  },
  {
   "cell_type": "code",
   "execution_count": 310,
   "id": "b216517b",
   "metadata": {},
   "outputs": [],
   "source": [
    "from datetime import datetime\n",
    "\n",
    "seven_hours = pd.to_datetime('14:00:00')\n",
    "ten_hours = pd.to_datetime('17:00:00')\n",
    "fifteen_hours = pd.to_datetime('22:00:00')\n",
    "\n",
    "time_arr = [seven_hours, ten_hours, fifteen_hours]"
   ]
  },
  {
   "cell_type": "code",
   "execution_count": 312,
   "id": "eac4767c",
   "metadata": {},
   "outputs": [
    {
     "name": "stdout",
     "output_type": "stream",
     "text": [
      "Before\n",
      "total flights: 511\n",
      "\n",
      "Time range from 7:00:00 to 14:00:00\n",
      "arrival flights: 34\n",
      "Average arrival time: 815.2941176470588\n",
      "\n",
      "Time range from 7:00:00 to 17:00:00\n",
      "arrival flights: 37\n",
      "Average arrival time: 2428.3783783783783\n",
      "\n",
      "Time range from 7:00:00 to 22:00:00\n",
      "arrival flights: 38\n",
      "Average arrival time: 3480.0\n",
      "\n"
     ]
    }
   ],
   "source": [
    "print(\"Before\")\n",
    "print(\"total flights: \" + str(len(df_before.groupby(by=['callsign']).count())) + '\\n')\n",
    "\n",
    "for t in time_arr:\n",
    "    print(\"Time range from 7:00:00 to \" + str(t).split(\" \")[1])\n",
    "    arrivals_before = df_before.groupby(by=['callsign']).filter(lambda x: x.takeoff.max() == False and x.time.max() <= t)\n",
    "    arrivals_before = arrivals_before[[\"time\", \"callsign\"]]\n",
    "\n",
    "    arrival_taxi_time_before = arrivals_before.groupby(by=['callsign'], as_index=False).agg({'time': ['min', 'max']})\n",
    "    arrival_taxi_time_before['taxi_time'] = arrival_taxi_time_before['time']['max'] - arrival_taxi_time_before[\"time\"][\"min\"]\n",
    "    arrival_taxi_time_before['taxi_time_seconds'] = arrival_taxi_time_before['taxi_time'].dt.total_seconds()\n",
    "    print(\"arrival flights: \" + str(len(arrival_taxi_time_before)))\n",
    "\n",
    "    sort_before = arrival_taxi_time_before.sort_values(by=[('time', 'max'), 'taxi_time_seconds'], ascending=False)\n",
    "    # print(sort_before[:10])\n",
    "    print(\"Average arrival time: \" + str(sort_before[\"taxi_time_seconds\"].mean()) + '\\n')"
   ]
  },
  {
   "cell_type": "code",
   "execution_count": 311,
   "id": "a6cf9e81",
   "metadata": {},
   "outputs": [
    {
     "name": "stdout",
     "output_type": "stream",
     "text": [
      "After\n",
      "Time range from 7:00:00 to 14:00:00\n",
      "arrival flights: 102\n",
      "Average arrival time: 1160.8823529411766\n",
      "\n",
      "Time range from 7:00:00 to 17:00:00\n",
      "arrival flights: 165\n",
      "Average arrival time: 984.1818181818181\n",
      "\n",
      "Time range from 7:00:00 to 22:00:00\n",
      "arrival flights: 197\n",
      "Average arrival time: 1335.5329949238578\n",
      "\n"
     ]
    }
   ],
   "source": [
    "print(\"After\")\n",
    "\n",
    "for t in time_arr:\n",
    "    print(\"Time range from 7:00:00 to \" + str(t).split(\" \")[1])\n",
    "    arrivals = df.groupby('callsign').filter(lambda x: x.takeoff.max() == False and x.time.max() <= t)\n",
    "    arrivals = arrivals[['time', 'callsign']]\n",
    "\n",
    "    arrival_taxi_time = arrivals.groupby(by=['callsign'], as_index=False).agg({'time': ['min', 'max']})\n",
    "    arrival_taxi_time['taxi_time'] = arrival_taxi_time['time']['max'] - arrival_taxi_time['time']['min']\n",
    "    arrival_taxi_time['taxi_time_seconds'] = arrival_taxi_time['taxi_time'].dt.total_seconds()\n",
    "    print(\"arrival flights: \" + str(len(arrival_taxi_time)))\n",
    "\n",
    "    sort = arrival_taxi_time.sort_values(by=[('time', 'max'), 'taxi_time_seconds'], ascending=False)\n",
    "    print(\"Average arrival time: \" + str(sort[\"taxi_time_seconds\"].mean()))\n",
    "#     print(sort[:10])\n",
    "    print()\n",
    "    "
   ]
  },
  {
   "cell_type": "markdown",
   "id": "71ae89d0",
   "metadata": {},
   "source": [
    "## Departures for 7/10/15 hours"
   ]
  },
  {
   "cell_type": "code",
   "execution_count": 313,
   "id": "65e9ca50",
   "metadata": {},
   "outputs": [
    {
     "name": "stdout",
     "output_type": "stream",
     "text": [
      "Departure Before\n",
      "total flights: 511\n",
      "\n",
      "Time range from 7:00:00 to 14:00:00\n",
      "departure flights: 181\n",
      "Average departure time: 2077.292817679558\n",
      "\n",
      "Time range from 7:00:00 to 17:00:00\n",
      "departure flights: 257\n",
      "Average departure time: 2698.715953307393\n",
      "\n",
      "Time range from 7:00:00 to 22:00:00\n",
      "departure flights: 381\n",
      "Average departure time: 3363.8582677165355\n",
      "\n"
     ]
    }
   ],
   "source": [
    "print(\"Departure Before\")\n",
    "print(\"total flights: \" + str(len(df_before.groupby(by=['callsign']).count())) + '\\n')\n",
    "for t in time_arr:\n",
    "    print(\"Time range from 7:00:00 to \" + str(t).split(\" \")[1])\n",
    "    departures_before = df_before.groupby(by=['callsign']).filter(lambda x: x.takeoff.max() == True and x.time.max() <= t)\n",
    "    departures_before = departures_before[['time', 'callsign']]\n",
    "    \n",
    "    depart_taxi_time_before = departures_before.groupby(by=['callsign'], as_index=False).agg({'time': ['min', 'max']})\n",
    "    depart_taxi_time_before['taxi_time'] = depart_taxi_time_before['time']['max'] - depart_taxi_time_before['time']['min']\n",
    "    depart_taxi_time_before['taxi_time_seconds'] = depart_taxi_time_before['taxi_time'].dt.total_seconds()\n",
    "    print(\"departure flights: \" + str(len(depart_taxi_time_before)))\n",
    "    # print(depart_taxi_time_before[:10])\n",
    "\n",
    "    avg_total_ticks_before = depart_taxi_time_before[\"taxi_time_seconds\"].mean()\n",
    "    print(\"Average departure time: \" + str(avg_total_ticks_before))\n",
    "    print()"
   ]
  },
  {
   "cell_type": "code",
   "execution_count": 314,
   "id": "5a926529",
   "metadata": {},
   "outputs": [
    {
     "name": "stdout",
     "output_type": "stream",
     "text": [
      "Departure After\n",
      "total flights: 389\n",
      "\n",
      "Time range from 7:00:00 to 14:00:00\n",
      "departure flights: 126\n",
      "Average departure time: 1247.3809523809523\n",
      "\n",
      "Time range from 7:00:00 to 17:00:00\n",
      "departure flights: 144\n",
      "Average departure time: 1194.7916666666667\n",
      "\n",
      "Time range from 7:00:00 to 22:00:00\n",
      "departure flights: 192\n",
      "Average departure time: 1234.375\n",
      "\n"
     ]
    }
   ],
   "source": [
    "print(\"Departure After\")\n",
    "print(\"total flights: \" + str(len(df.groupby(by=['callsign']).count())) + '\\n')\n",
    "\n",
    "for t in time_arr:\n",
    "    print(\"Time range from 7:00:00 to \" + str(t).split(\" \")[1])\n",
    "    departures = df.groupby(by=['callsign']).filter(lambda x: x.takeoff.max() == True and x.time.max() <= t)\n",
    "    departures = departures[['time', 'callsign']]\n",
    "    \n",
    "\n",
    "    depart_taxi_time = departures.groupby(by=['callsign'], as_index=False).agg({'time': ['min', 'max']})\n",
    "    depart_taxi_time['taxi_time'] = depart_taxi_time['time']['max'] - depart_taxi_time['time']['min']\n",
    "    depart_taxi_time['taxi_time_seconds'] = depart_taxi_time['taxi_time'].dt.total_seconds()\n",
    "    print(\"departure flights: \" + str(len(depart_taxi_time)))\n",
    "    # print(depart_taxi_time[:10])\n",
    "\n",
    "    avg_total_ticks = depart_taxi_time[\"taxi_time_seconds\"].mean()\n",
    "    print(\"Average departure time: \" + str(avg_total_ticks))\n",
    "    print()\n",
    "    "
   ]
  },
  {
   "cell_type": "code",
   "execution_count": null,
   "id": "fe8be964",
   "metadata": {},
   "outputs": [],
   "source": []
  }
 ],
 "metadata": {
  "kernelspec": {
   "display_name": "Python 3",
   "language": "python",
   "name": "python3"
  },
  "language_info": {
   "codemirror_mode": {
    "name": "ipython",
    "version": 3
   },
   "file_extension": ".py",
   "mimetype": "text/x-python",
   "name": "python",
   "nbconvert_exporter": "python",
   "pygments_lexer": "ipython3",
   "version": "3.8.8"
  }
 },
 "nbformat": 4,
 "nbformat_minor": 5
}
